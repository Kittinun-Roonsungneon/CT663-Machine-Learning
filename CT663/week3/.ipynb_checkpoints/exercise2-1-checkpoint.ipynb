{
 "cells": [
  {
   "cell_type": "code",
   "execution_count": 2,
   "id": "fdec058d-57f8-4b16-9e0e-430dfe01e21a",
   "metadata": {},
   "outputs": [],
   "source": [
    "import pandas as pd"
   ]
  },
  {
   "cell_type": "code",
   "execution_count": 3,
   "id": "0fb7775f-f3d3-4c4a-bfbf-21024ad51ae1",
   "metadata": {},
   "outputs": [],
   "source": [
    "data = [['baszy', 'a'], ['ball', 'a'], ['pear', 'd']]"
   ]
  },
  {
   "cell_type": "code",
   "execution_count": 4,
   "id": "1aa1a0bb-a908-4635-be8d-535668fe8bc1",
   "metadata": {},
   "outputs": [
    {
     "name": "stdout",
     "output_type": "stream",
     "text": [
      "    Name Grade\n",
      "0  baszy     a\n",
      "1   ball     a\n",
      "2   pear     d\n"
     ]
    }
   ],
   "source": [
    "df = pd.DataFrame(data, columns=['Name', 'Grade'])\n",
    "print(df)"
   ]
  },
  {
   "cell_type": "code",
   "execution_count": 6,
   "id": "d4a9da5c-7236-412b-8f6a-eb50f2b9f8a7",
   "metadata": {
    "scrolled": true
   },
   "outputs": [
    {
     "name": "stdout",
     "output_type": "stream",
     "text": [
      "    Name      birday\n",
      "0  baszy  07/08/1995\n",
      "1   ball  19/04/1992\n",
      "2   pear  14/06/1994\n"
     ]
    }
   ],
   "source": [
    "dict_data = {'Name': ['baszy', 'ball', 'pear'], 'birday': ['07/08/1995', '19/04/1992', '14/06/1994']}\n",
    "df_dict = pd.DataFrame(dict_data)\n",
    "print(df_dict)"
   ]
  },
  {
   "cell_type": "code",
   "execution_count": null,
   "id": "b0f52076-1b73-49af-a8cb-e9d2e3518474",
   "metadata": {},
   "outputs": [],
   "source": []
  }
 ],
 "metadata": {
  "kernelspec": {
   "display_name": "Python 3 (ipykernel)",
   "language": "python",
   "name": "python3"
  },
  "language_info": {
   "codemirror_mode": {
    "name": "ipython",
    "version": 3
   },
   "file_extension": ".py",
   "mimetype": "text/x-python",
   "name": "python",
   "nbconvert_exporter": "python",
   "pygments_lexer": "ipython3",
   "version": "3.11.2"
  }
 },
 "nbformat": 4,
 "nbformat_minor": 5
}
