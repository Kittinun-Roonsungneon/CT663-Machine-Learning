{
 "cells": [
  {
   "cell_type": "code",
   "execution_count": 25,
   "id": "f373abe1-7b96-414d-957e-8e60eb922bff",
   "metadata": {},
   "outputs": [
    {
     "name": "stdout",
     "output_type": "stream",
     "text": [
      "       0      1      2  Age  Salary\n",
      "0   True  False  False   44   72000\n",
      "1  False  False   True   34   65000\n",
      "2  False   True  False   46   98000\n",
      "3  False  False   True   35   45000\n",
      "4  False   True  False   23   34000\n"
     ]
    }
   ],
   "source": [
    "# Import the necessary libraries\n",
    "from sklearn.preprocessing import LabelEncoder\n",
    "import pandas as pd\n",
    "\n",
    "# Create a pandas DataFrame\n",
    "data = {\n",
    "    'Country': ['India', 'US', 'Japan', 'US', 'Japan'],\n",
    "    'Age': [44, 34, 46, 35, 23],\n",
    "    'Salary': [72000, 65000, 98000, 45000, 34000]\n",
    "}\n",
    "df = pd.DataFrame(data)\n",
    "# Create an instance of the LabelEncoder\n",
    "label_encoder = LabelEncoder()\n",
    "\n",
    "# Fit the label encoder to the categorical variable\n",
    "label_encoder.fit(df['Country'])\n",
    "\n",
    "# Transform the categorical variable into numerical labels\n",
    "encoded_labels = label_encoder.transform(df['Country'])\n",
    "\n",
    "# Add the encoded labels to the DataFrame\n",
    "df['Country'] = encoded_labels\n",
    "\n",
    "new_df = pd.get_dummies(df, columns=['Country'])\n",
    "new_df.head()\n",
    "# Reorder columns using iloc\n",
    "new_df = new_df.iloc[:, [2, 3, 4, 0, 1]]\n",
    "new_df.rename(columns={'Country_0': '0', 'Country_1': '1', 'Country_2': '2'}, inplace=True)\n",
    "print(new_df)"
   ]
  },
  {
   "cell_type": "code",
   "execution_count": 30,
   "id": "4607be1f-805b-4fb6-b140-9995457d1aac",
   "metadata": {},
   "outputs": [
    {
     "name": "stdout",
     "output_type": "stream",
     "text": [
      "       0      1      2  Age  Salary\n",
      "0   True  False  False   44   72000\n",
      "1  False  False   True   34   65000\n",
      "2  False   True  False   46   98000\n",
      "3  False  False   True   35   45000\n",
      "4  False   True  False   23   34000\n"
     ]
    }
   ],
   "source": [
    "# Clen Code\n",
    "from sklearn.preprocessing import LabelEncoder\n",
    "import pandas as pd\n",
    "\n",
    "# Create a pandas DataFrame\n",
    "data = {\n",
    "    'Country': ['India', 'US', 'Japan', 'US', 'Japan'],\n",
    "    'Age': [44, 34, 46, 35, 23],\n",
    "    'Salary': [72000, 65000, 98000, 45000, 34000]\n",
    "}\n",
    "df = pd.DataFrame(data)\n",
    "\n",
    "# Label encoding for 'Country' column\n",
    "label_encoder = LabelEncoder()\n",
    "df['Country'] = label_encoder.fit_transform(df['Country'])\n",
    "\n",
    "# One-hot encoding for 'Country' column\n",
    "new_df = pd.get_dummies(df, columns=['Country'])\n",
    "\n",
    "# Reorder columns and rename columns\n",
    "new_df = new_df.iloc[:, [2, 3, 4, 0, 1]]\n",
    "new_df.rename(columns={'Country_0': '0', 'Country_1': '1', 'Country_2': '2'}, inplace=True)\n",
    "\n",
    "print(new_df)\n"
   ]
  },
  {
   "cell_type": "code",
   "execution_count": null,
   "id": "a346ea00-643b-4350-a589-05ba9452916f",
   "metadata": {},
   "outputs": [],
   "source": []
  }
 ],
 "metadata": {
  "kernelspec": {
   "display_name": "Python 3 (ipykernel)",
   "language": "python",
   "name": "python3"
  },
  "language_info": {
   "codemirror_mode": {
    "name": "ipython",
    "version": 3
   },
   "file_extension": ".py",
   "mimetype": "text/x-python",
   "name": "python",
   "nbconvert_exporter": "python",
   "pygments_lexer": "ipython3",
   "version": "3.11.2"
  }
 },
 "nbformat": 4,
 "nbformat_minor": 5
}
