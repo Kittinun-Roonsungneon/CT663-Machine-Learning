{
 "cells": [
  {
   "cell_type": "code",
   "execution_count": 1,
   "id": "d0171d6f-0666-4382-bdcf-37379f1bee27",
   "metadata": {},
   "outputs": [
    {
     "name": "stdout",
     "output_type": "stream",
     "text": [
      "   Country  Age  Salary\n",
      "0        0   44   72000\n",
      "1        2   34   65000\n",
      "2        1   46   98000\n",
      "3        2   35   45000\n",
      "4        1   23   34000\n"
     ]
    }
   ],
   "source": [
    "# Import the necessary libraries\n",
    "from sklearn.preprocessing import LabelEncoder\n",
    "import pandas as pd\n",
    "\n",
    "# Create a pandas DataFrame\n",
    "data = {\n",
    "    'Country': ['India', 'US', 'Japan', 'US', 'Japan'],\n",
    "    'Age': [44, 34, 46, 35, 23],\n",
    "    'Salary': [72000, 65000, 98000, 45000, 34000]\n",
    "}\n",
    "df = pd.DataFrame(data)\n",
    "\n",
    "# Create an instance of the LabelEncoder\n",
    "label_encoder = LabelEncoder()\n",
    "\n",
    "# Fit the label encoder to the categorical variable\n",
    "label_encoder.fit(df['Country'])\n",
    "\n",
    "# Transform the categorical variable into numerical labels\n",
    "encoded_labels = label_encoder.transform(df['Country'])\n",
    "\n",
    "# Add the encoded labels to the DataFrame\n",
    "df['Country'] = encoded_labels\n",
    "\n",
    "# Print the updated DataFrame\n",
    "print(df)\n"
   ]
  },
  {
   "cell_type": "code",
   "execution_count": null,
   "id": "8c84ca06-6b4e-40c0-af4e-629cf9358ba4",
   "metadata": {},
   "outputs": [],
   "source": []
  }
 ],
 "metadata": {
  "kernelspec": {
   "display_name": "Python 3 (ipykernel)",
   "language": "python",
   "name": "python3"
  },
  "language_info": {
   "codemirror_mode": {
    "name": "ipython",
    "version": 3
   },
   "file_extension": ".py",
   "mimetype": "text/x-python",
   "name": "python",
   "nbconvert_exporter": "python",
   "pygments_lexer": "ipython3",
   "version": "3.11.2"
  }
 },
 "nbformat": 4,
 "nbformat_minor": 5
}
