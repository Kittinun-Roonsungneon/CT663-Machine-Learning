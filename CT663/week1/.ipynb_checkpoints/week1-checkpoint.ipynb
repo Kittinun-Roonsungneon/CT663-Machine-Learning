{
 "cells": [
  {
   "cell_type": "code",
   "execution_count": null,
   "id": "33fff6b8-7a4c-4a42-9f6f-8394f7b37415",
   "metadata": {},
   "outputs": [],
   "source": [
    "# Day 1: Python\n",
    "# ○ Data Warehouse with Python\n",
    "# ○ Python development environment\n",
    "# ■ Virtual Environment\n",
    "# ■ Python Development Tools\n",
    "# ○ Variables and Types\n",
    "# ○ Basic Operators\n",
    "# ○ String\n",
    "# ○ Datetime\n",
    "# ○ Condition\n",
    "# ○ Loop\n",
    "# ○ Function\n",
    "# ○ List, Dict, Set, Tuple"
   ]
  },
  {
   "cell_type": "code",
   "execution_count": null,
   "id": "0155b1a9-e973-4449-8e75-9d6292a3a782",
   "metadata": {},
   "outputs": [],
   "source": [
    "# Variables and Types\n",
    "# ● Integer <int>\n",
    "# ● Float <float>\n",
    "# ● Boolean <bool>\n",
    "# ● Null <NoneType>\n",
    "# x = None\n",
    "\n",
    "# ● String <str>\n",
    "# ● List <list>\n",
    "# ● Dictionary <dict>\n",
    "# ● Tuple <tuple>\n",
    "# ● Set <set>"
   ]
  }
 ],
 "metadata": {
  "kernelspec": {
   "display_name": "Python 3 (ipykernel)",
   "language": "python",
   "name": "python3"
  },
  "language_info": {
   "codemirror_mode": {
    "name": "ipython",
    "version": 3
   },
   "file_extension": ".py",
   "mimetype": "text/x-python",
   "name": "python",
   "nbconvert_exporter": "python",
   "pygments_lexer": "ipython3",
   "version": "3.11.2"
  }
 },
 "nbformat": 4,
 "nbformat_minor": 5
}
