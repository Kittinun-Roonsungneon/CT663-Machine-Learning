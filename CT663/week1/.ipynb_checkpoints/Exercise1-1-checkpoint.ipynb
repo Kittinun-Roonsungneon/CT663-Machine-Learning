{
 "cells": [
  {
   "cell_type": "code",
   "execution_count": 2,
   "id": "ed843ed0-579e-49e1-8e78-4d00baf49451",
   "metadata": {},
   "outputs": [],
   "source": [
    "import math"
   ]
  },
  {
   "cell_type": "code",
   "execution_count": 4,
   "id": "ff2ee954-cec3-4312-b5b1-6a0bce911190",
   "metadata": {},
   "outputs": [],
   "source": [
    "#exercise1.1\n",
    "#PointA\n",
    "x1=-2\n",
    "y1=1\n",
    "#PointB\n",
    "x2=4\n",
    "y2=3"
   ]
  },
  {
   "cell_type": "code",
   "execution_count": 7,
   "id": "a0d3be95-e387-4590-a9fb-6ed6ec151bcd",
   "metadata": {},
   "outputs": [
    {
     "name": "stdout",
     "output_type": "stream",
     "text": [
      "6.324555320336759\n"
     ]
    }
   ],
   "source": [
    "distance=((x2-x1)**2+(y2-y1)**2)**0.5\n",
    "print(distance)"
   ]
  },
  {
   "cell_type": "code",
   "execution_count": 13,
   "id": "8a0bdd30-9149-4106-953c-ef9bd172256e",
   "metadata": {},
   "outputs": [
    {
     "name": "stdout",
     "output_type": "stream",
     "text": [
      "78.53981633974483\n"
     ]
    }
   ],
   "source": [
    "#exercise1.2\n",
    "pi=math.pi\n",
    "#print(pi)\n",
    "radius=5\n",
    "area=pi*math.pow(radius,2)\n",
    "print(area)"
   ]
  },
  {
   "cell_type": "code",
   "execution_count": null,
   "id": "305a039e-d869-426f-8d1e-410fa42dc6db",
   "metadata": {},
   "outputs": [],
   "source": [
    "#exercise1.3"
   ]
  },
  {
   "cell_type": "code",
   "execution_count": 20,
   "id": "d5d2455a-883b-44e0-8227-1379fcfb57a9",
   "metadata": {},
   "outputs": [
    {
     "name": "stdout",
     "output_type": "stream",
     "text": [
      "226.22222222222223\n"
     ]
    }
   ],
   "source": [
    "fahrenheit=244\n",
    "celsius=fahrenheit-32*(5/9)\n",
    "print(celsius)"
   ]
  },
  {
   "cell_type": "code",
   "execution_count": null,
   "id": "eab3a02d-0166-4f49-a950-8c6170793a49",
   "metadata": {},
   "outputs": [],
   "source": [
    "#exercise2.1"
   ]
  },
  {
   "cell_type": "code",
   "execution_count": 34,
   "id": "9e5c485a-d871-41c6-ae4d-9588e36645a4",
   "metadata": {},
   "outputs": [
    {
     "name": "stdout",
     "output_type": "stream",
     "text": [
      "False\n",
      "False\n",
      "This is string example....wow!!! this is really String\n",
      "True\n",
      "True\n"
     ]
    },
    {
     "data": {
      "text/plain": [
       "'Thwas was string example....wow!!! thwas was really String'"
      ]
     },
     "execution_count": 34,
     "metadata": {},
     "output_type": "execute_result"
    }
   ],
   "source": [
    "text1 = ' This is string example....wow!!! this is really String '\n",
    "print(text1.lower().startswith('this'))\n",
    "print(text1.lower().endswith('string'))\n",
    "txt_clean=text1.strip()\n",
    "print(txt_clean)\n",
    "print(txt_clean.lower().startswith('this'))\n",
    "print(txt_clean.lower().endswith('string'))\n",
    "txt_clean.replace('is','was')"
   ]
  },
  {
   "cell_type": "code",
   "execution_count": null,
   "id": "2dbf16d2-3892-43ab-b6a6-a9624a913521",
   "metadata": {},
   "outputs": [],
   "source": []
  }
 ],
 "metadata": {
  "kernelspec": {
   "display_name": "Python 3 (ipykernel)",
   "language": "python",
   "name": "python3"
  },
  "language_info": {
   "codemirror_mode": {
    "name": "ipython",
    "version": 3
   },
   "file_extension": ".py",
   "mimetype": "text/x-python",
   "name": "python",
   "nbconvert_exporter": "python",
   "pygments_lexer": "ipython3",
   "version": "3.11.2"
  }
 },
 "nbformat": 4,
 "nbformat_minor": 5
}
