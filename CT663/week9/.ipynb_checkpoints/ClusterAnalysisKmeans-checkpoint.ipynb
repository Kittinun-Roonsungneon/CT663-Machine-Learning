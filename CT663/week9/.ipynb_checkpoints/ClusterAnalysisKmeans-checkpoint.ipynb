{
  "cells": [
    {
      "cell_type": "code",
      "execution_count": null,
      "metadata": {
        "scrolled": true,
        "id": "Jz5Pr47cUZde"
      },
      "outputs": [],
      "source": [
        "# Importing pandas and seaborn libraries for data manipulation and charting\n",
        "import pandas as pd\n",
        "import numpy as np\n",
        "import matplotlib.pyplot as plt"
      ]
    },
    {
      "cell_type": "code",
      "execution_count": null,
      "metadata": {
        "scrolled": true,
        "id": "UzPINjcVUZdf"
      },
      "outputs": [],
      "source": [
        "# Import data from CSV file\n",
        "data = pd.read_csv('churn_clean.csv')"
      ]
    },
    {
      "cell_type": "code",
      "execution_count": null,
      "metadata": {
        "scrolled": true,
        "id": "5s49GhxTUZdg"
      },
      "outputs": [],
      "source": [
        "# Function to clean column names\n",
        "def column_name_remove_space(df):\n",
        "    for x in df.columns:\n",
        "        if \" \" in x:\n",
        "            df = df.rename(columns={x:x.replace(\" \",\"_\").replace(\"(\",\"\")\n",
        "                                    .replace(\")\",\"\").replace(\",\",\"_\").replace(\"/\",\"_\")})\n",
        "    return df\n"
      ]
    },
    {
      "cell_type": "code",
      "execution_count": null,
      "metadata": {
        "id": "MWIiSJBVUZdg"
      },
      "outputs": [],
      "source": [
        "# Creating a copy of the data frame to be used to\n",
        "# correlate unpsuprvised learning labels with existing categorical variables\n",
        "data_orig = data.copy()"
      ]
    },
    {
      "cell_type": "code",
      "execution_count": null,
      "metadata": {
        "scrolled": true,
        "id": "Mj0T4ynMUZdg"
      },
      "outputs": [],
      "source": [
        "\n",
        "# Following data columns are not important for data analysis (more details included in the report)\n",
        "to_drop = ['City','County','Zip','Job','TimeZone',\n",
        "          'Lat','Lng','UID', 'Customer_id','Interaction','CaseOrder','State','Gender',\n",
        "          'Churn','Techie','Contract','Port_modem', 'Area','Tablet','Phone',\n",
        "           'OnlineSecurity','Multiple','OnlineBackup','TechSupport','DeviceProtection','StreamingTV',\n",
        "          'StreamingMovies','PaperlessBilling','PaymentMethod','Marital','InternetService']\n",
        "# Fix all columns\n",
        "data = column_name_remove_space(data)\n",
        "data.drop(columns=to_drop,inplace=True)"
      ]
    },
    {
      "cell_type": "code",
      "execution_count": null,
      "metadata": {
        "scrolled": true,
        "id": "hXJHcgxJUZdg"
      },
      "outputs": [],
      "source": [
        "# Check for null values\n",
        "data.isna().any(axis=0).any()"
      ]
    },
    {
      "cell_type": "code",
      "execution_count": null,
      "metadata": {
        "scrolled": true,
        "id": "APx0g0aKUZdh"
      },
      "outputs": [],
      "source": [
        "# Checking number of unique values in each column\n",
        "data.nunique()"
      ]
    },
    {
      "cell_type": "code",
      "execution_count": null,
      "metadata": {
        "scrolled": true,
        "id": "8T_B3ntFUZdh"
      },
      "outputs": [],
      "source": [
        "# Check all the unique values for all the columns having less than 100 unique values\n",
        "# Avoiding the value prints for those columns which have large number of unique values like zipcode or counties etc.\n",
        "\n",
        "for col in data.columns:\n",
        "    if data[col].nunique()<100:\n",
        "        print(col, sorted(data[col].unique()), '\\n')\n"
      ]
    },
    {
      "cell_type": "code",
      "execution_count": null,
      "metadata": {
        "scrolled": true,
        "id": "U34u82e2UZdh"
      },
      "outputs": [],
      "source": [
        "# Check data by printing first few rows\n",
        "data.head()"
      ]
    },
    {
      "cell_type": "code",
      "execution_count": null,
      "metadata": {
        "scrolled": true,
        "id": "5DcfpxnrUZdh",
        "outputId": "4ff43fb0-193b-4004-a958-aa654394f217"
      },
      "outputs": [
        {
          "data": {
            "text/html": [
              "<div>\n",
              "<style scoped>\n",
              "    .dataframe tbody tr th:only-of-type {\n",
              "        vertical-align: middle;\n",
              "    }\n",
              "\n",
              "    .dataframe tbody tr th {\n",
              "        vertical-align: top;\n",
              "    }\n",
              "\n",
              "    .dataframe thead th {\n",
              "        text-align: right;\n",
              "    }\n",
              "</style>\n",
              "<table border=\"1\" class=\"dataframe\">\n",
              "  <thead>\n",
              "    <tr style=\"text-align: right;\">\n",
              "      <th></th>\n",
              "      <th>Population</th>\n",
              "      <th>Children</th>\n",
              "      <th>Age</th>\n",
              "      <th>Income</th>\n",
              "      <th>Outage_sec_perweek</th>\n",
              "      <th>Email</th>\n",
              "      <th>Contacts</th>\n",
              "      <th>Yearly_equip_failure</th>\n",
              "      <th>Tenure</th>\n",
              "      <th>MonthlyCharge</th>\n",
              "      <th>Bandwidth_GB_Year</th>\n",
              "    </tr>\n",
              "  </thead>\n",
              "  <tbody>\n",
              "    <tr>\n",
              "      <th>9995</th>\n",
              "      <td>640</td>\n",
              "      <td>3</td>\n",
              "      <td>23</td>\n",
              "      <td>55723.74</td>\n",
              "      <td>9.415935</td>\n",
              "      <td>12</td>\n",
              "      <td>2</td>\n",
              "      <td>0</td>\n",
              "      <td>68.19713</td>\n",
              "      <td>159.9794</td>\n",
              "      <td>6511.252601</td>\n",
              "    </tr>\n",
              "    <tr>\n",
              "      <th>9996</th>\n",
              "      <td>77168</td>\n",
              "      <td>4</td>\n",
              "      <td>48</td>\n",
              "      <td>34129.34</td>\n",
              "      <td>6.740547</td>\n",
              "      <td>15</td>\n",
              "      <td>2</td>\n",
              "      <td>0</td>\n",
              "      <td>61.04037</td>\n",
              "      <td>207.4811</td>\n",
              "      <td>5695.951810</td>\n",
              "    </tr>\n",
              "    <tr>\n",
              "      <th>9997</th>\n",
              "      <td>406</td>\n",
              "      <td>1</td>\n",
              "      <td>48</td>\n",
              "      <td>45983.43</td>\n",
              "      <td>6.590911</td>\n",
              "      <td>10</td>\n",
              "      <td>0</td>\n",
              "      <td>0</td>\n",
              "      <td>47.41689</td>\n",
              "      <td>169.9741</td>\n",
              "      <td>4159.305799</td>\n",
              "    </tr>\n",
              "    <tr>\n",
              "      <th>9998</th>\n",
              "      <td>35575</td>\n",
              "      <td>1</td>\n",
              "      <td>39</td>\n",
              "      <td>16667.58</td>\n",
              "      <td>12.071910</td>\n",
              "      <td>14</td>\n",
              "      <td>1</td>\n",
              "      <td>0</td>\n",
              "      <td>71.09560</td>\n",
              "      <td>252.6240</td>\n",
              "      <td>6468.456752</td>\n",
              "    </tr>\n",
              "    <tr>\n",
              "      <th>9999</th>\n",
              "      <td>12230</td>\n",
              "      <td>1</td>\n",
              "      <td>28</td>\n",
              "      <td>9020.92</td>\n",
              "      <td>11.754720</td>\n",
              "      <td>17</td>\n",
              "      <td>1</td>\n",
              "      <td>0</td>\n",
              "      <td>63.35086</td>\n",
              "      <td>217.4840</td>\n",
              "      <td>5857.586167</td>\n",
              "    </tr>\n",
              "  </tbody>\n",
              "</table>\n",
              "</div>"
            ],
            "text/plain": [
              "      Population  Children  Age    Income  Outage_sec_perweek  Email  \\\n",
              "9995         640         3   23  55723.74            9.415935     12   \n",
              "9996       77168         4   48  34129.34            6.740547     15   \n",
              "9997         406         1   48  45983.43            6.590911     10   \n",
              "9998       35575         1   39  16667.58           12.071910     14   \n",
              "9999       12230         1   28   9020.92           11.754720     17   \n",
              "\n",
              "      Contacts  Yearly_equip_failure    Tenure  MonthlyCharge  \\\n",
              "9995         2                     0  68.19713       159.9794   \n",
              "9996         2                     0  61.04037       207.4811   \n",
              "9997         0                     0  47.41689       169.9741   \n",
              "9998         1                     0  71.09560       252.6240   \n",
              "9999         1                     0  63.35086       217.4840   \n",
              "\n",
              "      Bandwidth_GB_Year  \n",
              "9995        6511.252601  \n",
              "9996        5695.951810  \n",
              "9997        4159.305799  \n",
              "9998        6468.456752  \n",
              "9999        5857.586167  "
            ]
          },
          "execution_count": 35,
          "metadata": {},
          "output_type": "execute_result"
        }
      ],
      "source": [
        "# Check data by printing last few rows\n",
        "data.tail()"
      ]
    },
    {
      "cell_type": "code",
      "execution_count": null,
      "metadata": {
        "scrolled": true,
        "id": "VbX1FWAhUZdh",
        "outputId": "f9b56c85-db7c-4f0b-8466-caafd5a90e96"
      },
      "outputs": [
        {
          "data": {
            "text/html": [
              "<div>\n",
              "<style scoped>\n",
              "    .dataframe tbody tr th:only-of-type {\n",
              "        vertical-align: middle;\n",
              "    }\n",
              "\n",
              "    .dataframe tbody tr th {\n",
              "        vertical-align: top;\n",
              "    }\n",
              "\n",
              "    .dataframe thead th {\n",
              "        text-align: right;\n",
              "    }\n",
              "</style>\n",
              "<table border=\"1\" class=\"dataframe\">\n",
              "  <thead>\n",
              "    <tr style=\"text-align: right;\">\n",
              "      <th></th>\n",
              "      <th>Population</th>\n",
              "      <th>Children</th>\n",
              "      <th>Age</th>\n",
              "      <th>Income</th>\n",
              "      <th>Outage_sec_perweek</th>\n",
              "      <th>Email</th>\n",
              "      <th>Contacts</th>\n",
              "      <th>Yearly_equip_failure</th>\n",
              "      <th>Tenure</th>\n",
              "      <th>MonthlyCharge</th>\n",
              "      <th>Bandwidth_GB_Year</th>\n",
              "    </tr>\n",
              "  </thead>\n",
              "  <tbody>\n",
              "    <tr>\n",
              "      <th>0</th>\n",
              "      <td>-0.673405</td>\n",
              "      <td>-0.972338</td>\n",
              "      <td>0.720925</td>\n",
              "      <td>-0.398778</td>\n",
              "      <td>-0.679978</td>\n",
              "      <td>-0.666282</td>\n",
              "      <td>-1.005852</td>\n",
              "      <td>0.946658</td>\n",
              "      <td>-1.048746</td>\n",
              "      <td>-0.003943</td>\n",
              "      <td>-1.138487</td>\n",
              "    </tr>\n",
              "    <tr>\n",
              "      <th>1</th>\n",
              "      <td>0.047772</td>\n",
              "      <td>-0.506592</td>\n",
              "      <td>-1.259957</td>\n",
              "      <td>-0.641954</td>\n",
              "      <td>0.570331</td>\n",
              "      <td>-0.005288</td>\n",
              "      <td>-1.005852</td>\n",
              "      <td>0.946658</td>\n",
              "      <td>-1.262001</td>\n",
              "      <td>1.630326</td>\n",
              "      <td>-1.185876</td>\n",
              "    </tr>\n",
              "    <tr>\n",
              "      <th>2</th>\n",
              "      <td>-0.417238</td>\n",
              "      <td>0.890646</td>\n",
              "      <td>-0.148730</td>\n",
              "      <td>-1.070885</td>\n",
              "      <td>0.252347</td>\n",
              "      <td>-0.996779</td>\n",
              "      <td>-1.005852</td>\n",
              "      <td>0.946658</td>\n",
              "      <td>-0.709940</td>\n",
              "      <td>-0.295225</td>\n",
              "      <td>-0.612138</td>\n",
              "    </tr>\n",
              "    <tr>\n",
              "      <th>3</th>\n",
              "      <td>0.284537</td>\n",
              "      <td>-0.506592</td>\n",
              "      <td>-0.245359</td>\n",
              "      <td>-0.740525</td>\n",
              "      <td>1.650506</td>\n",
              "      <td>0.986203</td>\n",
              "      <td>1.017588</td>\n",
              "      <td>-0.625864</td>\n",
              "      <td>-0.659524</td>\n",
              "      <td>-1.226521</td>\n",
              "      <td>-0.561857</td>\n",
              "    </tr>\n",
              "    <tr>\n",
              "      <th>4</th>\n",
              "      <td>0.110549</td>\n",
              "      <td>-0.972338</td>\n",
              "      <td>1.445638</td>\n",
              "      <td>0.009478</td>\n",
              "      <td>-0.623156</td>\n",
              "      <td>1.316700</td>\n",
              "      <td>1.017588</td>\n",
              "      <td>0.946658</td>\n",
              "      <td>-1.242551</td>\n",
              "      <td>-0.528086</td>\n",
              "      <td>-1.428184</td>\n",
              "    </tr>\n",
              "  </tbody>\n",
              "</table>\n",
              "</div>"
            ],
            "text/plain": [
              "   Population  Children       Age    Income  Outage_sec_perweek     Email  \\\n",
              "0   -0.673405 -0.972338  0.720925 -0.398778           -0.679978 -0.666282   \n",
              "1    0.047772 -0.506592 -1.259957 -0.641954            0.570331 -0.005288   \n",
              "2   -0.417238  0.890646 -0.148730 -1.070885            0.252347 -0.996779   \n",
              "3    0.284537 -0.506592 -0.245359 -0.740525            1.650506  0.986203   \n",
              "4    0.110549 -0.972338  1.445638  0.009478           -0.623156  1.316700   \n",
              "\n",
              "   Contacts  Yearly_equip_failure    Tenure  MonthlyCharge  Bandwidth_GB_Year  \n",
              "0 -1.005852              0.946658 -1.048746      -0.003943          -1.138487  \n",
              "1 -1.005852              0.946658 -1.262001       1.630326          -1.185876  \n",
              "2 -1.005852              0.946658 -0.709940      -0.295225          -0.612138  \n",
              "3  1.017588             -0.625864 -0.659524      -1.226521          -0.561857  \n",
              "4  1.017588              0.946658 -1.242551      -0.528086          -1.428184  "
            ]
          },
          "execution_count": 36,
          "metadata": {},
          "output_type": "execute_result"
        }
      ],
      "source": [
        "# It is important to bring various columns or fields to the\n",
        "# same scale because KMeans work based on distance between points\n",
        "from sklearn.preprocessing import StandardScaler\n",
        "\n",
        "sc = StandardScaler()\n",
        "sc.fit(data)\n",
        "scaled_data_array = sc.transform(data)\n",
        "scaled_data = pd.DataFrame(scaled_data_array, columns = data.columns)\n",
        "scaled_data.head()"
      ]
    },
    {
      "cell_type": "code",
      "execution_count": null,
      "metadata": {
        "id": "GHCuGdNUUZdh"
      },
      "outputs": [],
      "source": [
        "# Export data to CSV for submission purposes\n",
        "scaled_data.to_csv('scaled_data.csv')"
      ]
    },
    {
      "cell_type": "code",
      "execution_count": null,
      "metadata": {
        "id": "pCtwuFWyUZdh",
        "outputId": "3d1d5dac-a8cc-4d2d-a923-029a04b00b79"
      },
      "outputs": [
        {
          "data": {
            "image/png": "[encoded data removed]",
            "text/plain": [
              "<Figure size 640x480 with 1 Axes>"
            ]
          },
          "metadata": {},
          "output_type": "display_data"
        }
      ],
      "source": [
        "# Running KMeans models to create chart for elbow method\n",
        "\n",
        "from sklearn.cluster import KMeans\n",
        "ks = range(1, 10)    # varying cluster values from 1 to 10\n",
        "inertias = []\n",
        "\n",
        "for k in ks:\n",
        "    model = KMeans(n_clusters=k)\n",
        "    model.fit(scaled_data)\n",
        "    inertias.append(model.inertia_)\n",
        "\n",
        "# Plot ks vs inertias, to apply elbow method\n",
        "plt.plot(ks, inertias, '-o')\n",
        "plt.xlabel('number of clusters, k')\n",
        "plt.ylabel('inertia')\n",
        "plt.xticks(ks)\n",
        "plt.show()\n"
      ]
    },
    {
      "cell_type": "code",
      "execution_count": null,
      "metadata": {
        "id": "rWA1NdxnUZdi",
        "outputId": "ff8f3212-0290-4fe7-a170-19b1f0a94de4"
      },
      "outputs": [
        {
          "name": "stdout",
          "output_type": "stream",
          "text": [
            "[1 1 1 ... 0 0 0]\n"
          ]
        }
      ],
      "source": [
        "# Based on elbow method, optimal number of clustering is 2\n",
        "# Hence, creating KMeans model with 2 clusters for further analysis\n",
        "\n",
        "model = KMeans(n_clusters=2)\n",
        "model.fit(scaled_data)\n",
        "print(model.labels_)"
      ]
    },
    {
      "cell_type": "code",
      "execution_count": null,
      "metadata": {
        "id": "2DSElp_vUZdi",
        "outputId": "fd227879-5316-46a5-835f-26025f427fb9"
      },
      "outputs": [
        {
          "data": {
            "text/plain": [
              "array([[ 1.65991339e-04, -3.57133431e-03,  1.94122647e-02,\n",
              "         2.56332001e-03,  3.04581857e-03, -1.18344081e-02,\n",
              "         4.04614996e-03,  9.06008949e-03,  9.60835061e-01,\n",
              "        -1.52903613e-03,  9.52504980e-01],\n",
              "       [-1.65858599e-04,  3.56847838e-03, -1.93967411e-02,\n",
              "        -2.56127017e-03, -3.04338289e-03,  1.18249444e-02,\n",
              "        -4.04291434e-03, -9.05284432e-03, -9.60066700e-01,\n",
              "         1.52781339e-03, -9.51743281e-01]])"
            ]
          },
          "execution_count": 40,
          "metadata": {},
          "output_type": "execute_result"
        }
      ],
      "source": [
        "# Print cluster centers\n",
        "model.cluster_centers_"
      ]
    },
    {
      "cell_type": "markdown",
      "metadata": {
        "id": "wzxJe4u3UZdi"
      },
      "source": [
        "As previously stated, now we have cluster labels availables based on KMeans model run. We don't really know what those cluster labels correspond to in real world. To explore if the KMeans labels have some correspondence with the real world labels that we had in the original data, I am adding the KMeans labels to the original data and query the data to draw correspondence with other categorical variables (primarily the Churn variable).\n"
      ]
    },
    {
      "cell_type": "code",
      "execution_count": null,
      "metadata": {
        "id": "7WlDKsaYUZdj"
      },
      "outputs": [],
      "source": [
        "# Creating a new column in the original data frame containing KMeans labels\n",
        "\n",
        "data_orig['label_'] = model.labels_"
      ]
    },
    {
      "cell_type": "code",
      "execution_count": null,
      "metadata": {
        "id": "oeG6Ui5FUZdj",
        "outputId": "72faf4e4-e4b6-476e-96f0-04e75e153279"
      },
      "outputs": [
        {
          "name": "stdout",
          "output_type": "stream",
          "text": [
            "284\n",
            "2650\n"
          ]
        }
      ],
      "source": [
        "# Exploring if KMeans labels have correlation with Churn field\n",
        "print(data_orig.query('label_==0 and Churn==\"Yes\"').Customer_id.count())\n",
        "print(data_orig.query('Churn==\"Yes\"').Customer_id.count())"
      ]
    },
    {
      "cell_type": "markdown",
      "metadata": {
        "id": "6yTwj3_fUZdj"
      },
      "source": [
        "As we saw above, 2366 customers who had a churn values of Yes, were labeled under cluster 0 by KMeans.\n",
        "There is strong correlation between cluster labeling and churn field values.\n",
        "Based on this fact, we can assume that Kmeans is the predictive algorithm for Churn variable.\n",
        "And we can compute the prediction accuracy."
      ]
    },
    {
      "cell_type": "code",
      "execution_count": null,
      "metadata": {
        "id": "IUyXI3EtUZdj",
        "outputId": "279ea7b9-27f5-4952-8022-61a0023b4410"
      },
      "outputs": [
        {
          "data": {
            "text/plain": [
              "array([[ 284, 2366],\n",
              "       [4715, 2635]])"
            ]
          },
          "execution_count": 43,
          "metadata": {},
          "output_type": "execute_result"
        }
      ],
      "source": [
        "# Under the assumption that the KMeans is being used as the predictive model for customer churn behavior\n",
        "# we are not creating the confusion matrix\n",
        "\n",
        "from sklearn import metrics\n",
        "y_actual = data_orig['Churn'].apply(lambda x: 1 if x=='No' else 0)\n",
        "y_pred = data_orig['label_']\n",
        "metrics.confusion_matrix(y_actual, y_pred)"
      ]
    },
    {
      "cell_type": "code",
      "execution_count": null,
      "metadata": {
        "id": "ojkA9SY0UZdj",
        "outputId": "45fde876-f533-40ae-9632-530f18e9b32e"
      },
      "outputs": [
        {
          "data": {
            "text/plain": [
              "0.2919"
            ]
          },
          "execution_count": 44,
          "metadata": {},
          "output_type": "execute_result"
        }
      ],
      "source": [
        "# And computing the accuracy score\n",
        "\n",
        "metrics.accuracy_score(y_actual, y_pred)"
      ]
    },
    {
      "cell_type": "code",
      "execution_count": null,
      "metadata": {
        "id": "dGgL_ZbeUZdj",
        "outputId": "4a895ef3-33fc-4ea3-f01e-1614073e2d32"
      },
      "outputs": [
        {
          "data": {
            "image/png": "[encoded data removed]",
            "text/plain": [
              "<Figure size 800x640 with 1 Axes>"
            ]
          },
          "metadata": {},
          "output_type": "display_data"
        },
        {
          "data": {
            "image/png": "[encoded data removed]",
            "text/plain": [
              "<Figure size 800x640 with 1 Axes>"
            ]
          },
          "metadata": {},
          "output_type": "display_data"
        }
      ],
      "source": [
        "# This code is for the purpose of creating 2D charts to show how KMeans method works\n",
        "# It is not pertinent to Customer data analysis\n",
        "\n",
        "import pandas as pd\n",
        "import numpy as np\n",
        "import matplotlib.pyplot as plt\n",
        "\n",
        "from sklearn.datasets import make_blobs\n",
        "plt.figure(figsize=(10, 8), dpi=80)\n",
        "features, clusters = make_blobs(n_samples = 45,\n",
        "                                center_box=(0,50),\n",
        "                                n_features = 2,\n",
        "                                cluster_std=3,\n",
        "                                centers = 3,\n",
        "                                shuffle = True,\n",
        "                               random_state = 1)\n",
        "plt.scatter(features[:,0], features[:,1])\n",
        "plt.show()\n",
        "df = pd.DataFrame(features, columns=[\"Feature 1\", \"Feature 2\"])\n",
        "sc = StandardScaler()\n",
        "sc.fit(df)\n",
        "scaled_data_array = sc.transform(df)\n",
        "scaled_data = pd.DataFrame(scaled_data_array, columns = df.columns)\n",
        "\n",
        "model = KMeans(n_clusters=4)\n",
        "model.fit(scaled_data)\n",
        "scaled_data['label'] = model.labels_\n",
        "centroids = model.cluster_centers_\n",
        "plt.figure(figsize=(10, 8), dpi=80)\n",
        "plt.scatter(scaled_data['Feature 1'], scaled_data['Feature 2'], c= model.labels_)\n",
        "plt.scatter(centroids[:,0] , centroids[:,1] , s = 80, color = 'r')\n",
        "plt.show()"
      ]
    }
  ],
  "metadata": {
    "kernelspec": {
      "display_name": "Python 3",
      "language": "python",
      "name": "python3"
    },
    "language_info": {
      "codemirror_mode": {
        "name": "ipython",
        "version": 3
      },
      "file_extension": ".py",
      "mimetype": "text/x-python",
      "name": "python",
      "nbconvert_exporter": "python",
      "pygments_lexer": "ipython3",
      "version": "3.8.5"
    },
    "colab": {
      "provenance": []
    }
  },
  "nbformat": 4,
  "nbformat_minor": 0
}