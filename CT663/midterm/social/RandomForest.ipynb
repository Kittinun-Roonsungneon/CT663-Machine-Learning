{
 "cells": [
  {
   "cell_type": "code",
   "execution_count": null,
   "id": "f32baf83-c71e-4bc0-b3b0-0e6ea0fd5e9a",
   "metadata": {},
   "outputs": [],
   "source": [
    "# นำเข้าไลบรารีที่จำเป็น\n",
    "import pandas as pd\n",
    "from sklearn.model_selection import train_test_split\n",
    "from sklearn.ensemble import RandomForestClassifier\n",
    "from sklearn.metrics import accuracy_score, classification_report\n"
   ]
  },
  {
   "cell_type": "code",
   "execution_count": null,
   "id": "7939d51b-7e88-4387-974d-72f474bbabb0",
   "metadata": {},
   "outputs": [],
   "source": [
    "dataset = pd.read_csv('Social_Network_Ads.csv')\n",
    "dataset1 = pd.read_csv('Social_Network_Adsnew.csv')\n",
    "X = dataset.iloc[:, :-1].values\n",
    "y = dataset.iloc[:, -1].values"
   ]
  },
  {
   "cell_type": "code",
   "execution_count": null,
   "id": "51682f58-fbb2-4abe-97b2-16868e456818",
   "metadata": {},
   "outputs": [],
   "source": [
    "# Display the shape of the dataset\n",
    "print(\"Number of rows:\", dataset1.shape[0])\n",
    "print(\"Number of columns:\", dataset1.shape[1])"
   ]
  },
  {
   "cell_type": "code",
   "execution_count": 15,
   "id": "5c96bf71-1a89-40ab-8f95-4a8c564898d8",
   "metadata": {},
   "outputs": [
    {
     "name": "stdout",
     "output_type": "stream",
     "text": [
      "Accuracy: 0.92\n",
      "              precision    recall  f1-score   support\n",
      "\n",
      "           0       0.95      0.93      0.94        68\n",
      "           1       0.85      0.91      0.88        32\n",
      "\n",
      "    accuracy                           0.92       100\n",
      "   macro avg       0.90      0.92      0.91       100\n",
      "weighted avg       0.92      0.92      0.92       100\n",
      "\n"
     ]
    }
   ],
   "source": [
    "# แบ่งข้อมูลเป็นเซ็ตข้อมูลสำหรับการฝึกและทดสอบ\n",
    "X = dataset.iloc[:, :-1].values\n",
    "y = dataset.iloc[:, -1].values\n",
    "\n",
    "X_train, X_test, y_train, y_test = train_test_split(X, y, test_size=0.2, random_state=42)\n",
    "X_train, X_test, y_train, y_test = train_test_split(X, y, test_size = 0.25, random_state = 0)\n",
    "# สร้างแบบจำลอง Random Forest\n",
    "rf_classifier = RandomForestClassifier(n_estimators=100, random_state=42)\n",
    "\n",
    "# ฝึกแบบจำลอง\n",
    "rf_classifier.fit(X_train, y_train)\n",
    "\n",
    "# ทำนายบนชุดข้อมูลทดสอบ\n",
    "y_pred = rf_classifier.predict(X_test)\n",
    "\n",
    "# ประเมินผลลัพธ์\n",
    "accuracy = accuracy_score(y_test, y_pred)\n",
    "print(\"Accuracy:\", accuracy)\n",
    "\n",
    "# แสดงรายงานการประเมิน\n",
    "print(classification_report(y_test, y_pred))"
   ]
  },
  {
   "cell_type": "code",
   "execution_count": null,
   "id": "a47a60d6-66ae-42dc-8b0e-490547312c21",
   "metadata": {},
   "outputs": [],
   "source": []
  },
  {
   "cell_type": "code",
   "execution_count": null,
   "id": "00224c25-2cd4-4677-8c48-c79415f162b7",
   "metadata": {},
   "outputs": [],
   "source": []
  }
 ],
 "metadata": {
  "kernelspec": {
   "display_name": "Python 3 (ipykernel)",
   "language": "python",
   "name": "python3"
  },
  "language_info": {
   "codemirror_mode": {
    "name": "ipython",
    "version": 3
   },
   "file_extension": ".py",
   "mimetype": "text/x-python",
   "name": "python",
   "nbconvert_exporter": "python",
   "pygments_lexer": "ipython3",
   "version": "3.11.2"
  }
 },
 "nbformat": 4,
 "nbformat_minor": 5
}
