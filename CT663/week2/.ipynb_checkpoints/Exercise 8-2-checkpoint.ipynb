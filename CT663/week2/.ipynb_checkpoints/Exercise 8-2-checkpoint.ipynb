{
 "cells": [
  {
   "cell_type": "code",
   "execution_count": 4,
   "id": "b68c67bf-bdd6-4de8-9693-aa87a35e4f9d",
   "metadata": {},
   "outputs": [
    {
     "name": "stdout",
     "output_type": "stream",
     "text": [
      "{'Cierra Vega': 175, 'Alden Cantrell': 180, 'Kierra Gentry': 165, 'Pierre Cox': 190}\n",
      "result = {'Cierra Vega': 175, 'Alden Cantrell': 180, 'Pierre Cox': 190}\n"
     ]
    }
   ],
   "source": [
    "scores = {\n",
    "'Cierra Vega': 175,\n",
    "'Alden Cantrell': 180,\n",
    "'Kierra Gentry': 165,\n",
    "'Pierre Cox': 190\n",
    "}\n",
    "#print(scores)\n",
    "threshold = 170\n",
    "\n",
    "result = {name: score for name, score in scores.items() if score > threshold}\n",
    "\n",
    "print('result =',result)"
   ]
  },
  {
   "cell_type": "code",
   "execution_count": 6,
   "id": "fcb9ef59-982f-4fe6-a035-e9dd06cd0e2e",
   "metadata": {},
   "outputs": [
    {
     "data": {
      "text/plain": [
       "{'Cierra Vega': 175, 'Alden Cantrell': 180, 'Pierre Cox': 190}"
      ]
     },
     "execution_count": 6,
     "metadata": {},
     "output_type": "execute_result"
    }
   ],
   "source": [
    "filter_scores = {k : v for k, v in scores.items() if v > 170}\n",
    "print('result =',filter_scores)"
   ]
  },
  {
   "cell_type": "code",
   "execution_count": null,
   "id": "246a525b-6d37-4c70-b43b-9c1bef26201a",
   "metadata": {},
   "outputs": [],
   "source": []
  }
 ],
 "metadata": {
  "kernelspec": {
   "display_name": "Python 3 (ipykernel)",
   "language": "python",
   "name": "python3"
  },
  "language_info": {
   "codemirror_mode": {
    "name": "ipython",
    "version": 3
   },
   "file_extension": ".py",
   "mimetype": "text/x-python",
   "name": "python",
   "nbconvert_exporter": "python",
   "pygments_lexer": "ipython3",
   "version": "3.11.2"
  }
 },
 "nbformat": 4,
 "nbformat_minor": 5
}
