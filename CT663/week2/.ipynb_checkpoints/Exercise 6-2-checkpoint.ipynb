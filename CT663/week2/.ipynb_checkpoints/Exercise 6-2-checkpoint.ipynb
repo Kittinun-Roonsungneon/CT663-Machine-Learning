{
 "cells": [
  {
   "cell_type": "code",
   "execution_count": 1,
   "id": "c9faf91d-5923-4284-bb40-034973e8a573",
   "metadata": {},
   "outputs": [
    {
     "data": {
      "text/plain": [
       "'A'"
      ]
     },
     "execution_count": 1,
     "metadata": {},
     "output_type": "execute_result"
    }
   ],
   "source": [
    "def computegrade(score):\n",
    "  if score >= 0.9:\n",
    "    grade = 'A'\n",
    "  elif score >= 0.8:\n",
    "    grade = 'B'\n",
    "  elif score >= 0.7:\n",
    "    grade = 'C'\n",
    "  elif score >= 0.6:\n",
    "    grade = 'D'\n",
    "  else:\n",
    "    grade = 'F'\n",
    "  return grade\n",
    "\n",
    "computegrade(0.95)"
   ]
  },
  {
   "cell_type": "code",
   "execution_count": null,
   "id": "7dd90fb7-79d5-461d-abf4-4753b45cac98",
   "metadata": {},
   "outputs": [],
   "source": []
  }
 ],
 "metadata": {
  "kernelspec": {
   "display_name": "Python 3 (ipykernel)",
   "language": "python",
   "name": "python3"
  },
  "language_info": {
   "codemirror_mode": {
    "name": "ipython",
    "version": 3
   },
   "file_extension": ".py",
   "mimetype": "text/x-python",
   "name": "python",
   "nbconvert_exporter": "python",
   "pygments_lexer": "ipython3",
   "version": "3.11.2"
  }
 },
 "nbformat": 4,
 "nbformat_minor": 5
}
